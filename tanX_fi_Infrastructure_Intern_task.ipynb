{
  "nbformat": 4,
  "nbformat_minor": 0,
  "metadata": {
    "colab": {
      "provenance": []
    },
    "kernelspec": {
      "name": "python3",
      "display_name": "Python 3"
    },
    "language_info": {
      "name": "python"
    }
  },
  "cells": [
    {
      "cell_type": "markdown",
      "source": [
        "**Infrastructure Engineer Internship taks**"
      ],
      "metadata": {
        "id": "KfoTmrIqZRSH"
      }
    },
    {
      "cell_type": "markdown",
      "source": [
        "Problem Statement: Python code to analyse the CSV file on orders.csv"
      ],
      "metadata": {
        "id": "vKKxu4M1ZuTS"
      }
    },
    {
      "cell_type": "markdown",
      "source": [
        "1. Creation of CSV file for analysis with random values..."
      ],
      "metadata": {
        "id": "JSZpBipqZiFb"
      }
    },
    {
      "cell_type": "code",
      "source": [
        "import csv"
      ],
      "metadata": {
        "id": "Cfpm7K7aaBit"
      },
      "execution_count": 1,
      "outputs": []
    },
    {
      "cell_type": "code",
      "execution_count": 2,
      "metadata": {
        "colab": {
          "base_uri": "https://localhost:8080/"
        },
        "id": "Y_I_NklXZGmD",
        "outputId": "7f8119fb-c649-479e-daed-db1f66ec8bd8"
      },
      "outputs": [
        {
          "output_type": "stream",
          "name": "stdout",
          "text": [
            "CSV file 'orders.csv' created successfully!\n"
          ]
        }
      ],
      "source": [
        "csv_content = \"\"\"order_id,customer_id,order_date,product_id,product_name,product_price,quantity\n",
        "1,C100,2022-01-01,P001,Product A,20.99,3\n",
        "2,C101,2022-01-02,P002,Product B,15.49,2\n",
        "3,C102,2022-01-03,P003,Product C,30.00,1\n",
        "4,C103,2022-01-04,P004,Product D,25.99,4\n",
        "5,C104,2022-01-05,P005,Product E,10.00,2\n",
        "6,C105,2022-02-01,P001,Product A,20.99,3\n",
        "7,C106,2022-02-02,P002,Product B,15.49,2\n",
        "8,C107,2022-02-03,P003,Product C,30.00,1\n",
        "9,C108,2022-02-04,P004,Product D,25.99,4\n",
        "10,C109,2022-02-05,P005,Product E,10.00,2\n",
        "11,C110,2022-03-01,P001,Product A,20.99,3\n",
        "12,C111,2022-03-02,P002,Product B,15.49,2\n",
        "13,C112,2022-03-03,P003,Product C,30.00,1\n",
        "14,C113,2022-03-04,P004,Product D,25.99,4\n",
        "15,C114,2022-03-05,P005,Product E,10.00,2\n",
        "16,C115,2022-04-01,P001,Product A,20.99,3\n",
        "17,C116,2022-04-02,P002,Product B,15.49,2\n",
        "18,C117,2022-04-03,P003,Product C,30.00,1\n",
        "19,C118,2022-04-04,P004,Product D,25.99,4\n",
        "20,C119,2022-04-05,P005,Product E,10.00,2\n",
        "21,C120,2022-05-01,P001,Product A,20.99,3\n",
        "22,C121,2022-05-02,P002,Product B,15.49,2\n",
        "23,C122,2022-05-03,P003,Product C,30.00,1\n",
        "24,C123,2022-05-04,P004,Product D,25.99,4\n",
        "25,C124,2022-05-05,P005,Product E,10.00,2\n",
        "26,C125,2022-06-01,P001,Product A,20.99,3\n",
        "27,C126,2022-06-02,P002,Product B,15.49,2\n",
        "28,C127,2022-06-03,P003,Product C,30.00,1\n",
        "29,C128,2022-06-04,P004,Product D,25.99,4\n",
        "30,C129,2022-06-05,P005,Product E,10.00,2\n",
        "31,C130,2022-07-01,P001,Product A,20.99,3\n",
        "32,C131,2022-07-02,P002,Product B,15.49,2\n",
        "33,C132,2022-07-03,P003,Product C,30.00,1\n",
        "34,C133,2022-07-04,P004,Product D,25.99,4\n",
        "35,C134,2022-07-05,P005,Product E,10.00,2\n",
        "36,C135,2022-08-01,P001,Product A,20.99,3\n",
        "37,C136,2022-08-02,P002,Product B,15.49,2\n",
        "38,C137,2022-08-03,P003,Product C,30.00,1\n",
        "39,C138,2022-08-04,P004,Product D,25.99,4\n",
        "40,C139,2022-08-05,P005,Product E,10.00,2\n",
        "41,C140,2022-09-01,P001,Product A,20.99,3\n",
        "42,C141,2022-09-02,P002,Product B,15.49,2\n",
        "43,C142,2022-09-03,P003,Product C,30.00,1\n",
        "44,C143,2022-09-04,P004,Product D,25.99,4\n",
        "45,C144,2022-09-05,P005,Product E,10.00,2\n",
        "46,C145,2022-10-01,P001,Product A,20.99,3\n",
        "47,C146,2022-10-02,P002,Product B,15.49,2\n",
        "48,C147,2022-10-03,P003,Product C,30.00,1\n",
        "49,C148,2022-10-04,P004,Product D,25.99,4\n",
        "50,C149,2022-10-05,P005,Product E,10.00,2\n",
        "\"\"\"\n",
        "\n",
        "# Writing to CSV file\n",
        "with open('orders.csv', 'w', newline='') as csvfile:\n",
        "    csvfile.write(csv_content)\n",
        "\n",
        "print(\"CSV file 'orders.csv' created successfully!\")\n"
      ]
    },
    {
      "cell_type": "markdown",
      "source": [
        "2. CSV file analysis"
      ],
      "metadata": {
        "id": "1eSA3Dh-a2hA"
      }
    },
    {
      "cell_type": "code",
      "source": [
        "import pandas as pd\n",
        "from datetime import datetime"
      ],
      "metadata": {
        "id": "C2izG6_WaDBe"
      },
      "execution_count": 3,
      "outputs": []
    },
    {
      "cell_type": "code",
      "source": [
        "# Read CSV file\n",
        "df = pd.read_csv(r'/content/orders.csv')"
      ],
      "metadata": {
        "id": "2C8T2JpAaNhL"
      },
      "execution_count": 4,
      "outputs": []
    },
    {
      "cell_type": "code",
      "source": [
        "# Convert 'order_date' to datetime format\n",
        "df['order_date'] = pd.to_datetime(df['order_date'])"
      ],
      "metadata": {
        "id": "X7g72DQQaSUG"
      },
      "execution_count": 5,
      "outputs": []
    },
    {
      "cell_type": "markdown",
      "source": [
        "3. Python approach on csv"
      ],
      "metadata": {
        "id": "K2tIHLxYa50y"
      }
    },
    {
      "cell_type": "code",
      "source": [
        "# Task 1: Compute total revenue generated by the online store for each month\n",
        "df['order_month'] = df['order_date'].dt.to_period('M')\n",
        "monthly_revenue = df.groupby('order_month')['product_price'].sum()\n",
        "\n",
        "# Task 2: Compute total revenue generated by each product\n",
        "product_revenue = df.groupby('product_name')['product_price'].sum()\n",
        "\n",
        "# Task 3: Compute total revenue generated by each customer\n",
        "customer_revenue = df.groupby('customer_id')['product_price'].sum()\n",
        "\n",
        "# Task 4: Identify the top 10 customers by revenue\n",
        "top_customers = customer_revenue.sort_values(ascending=False).head(10)\n"
      ],
      "metadata": {
        "id": "fvmdjy85aVx2"
      },
      "execution_count": 6,
      "outputs": []
    },
    {
      "cell_type": "markdown",
      "source": [
        "4. Displaying the results"
      ],
      "metadata": {
        "id": "tpMlUeXzbdhU"
      }
    },
    {
      "cell_type": "code",
      "source": [
        "# Display results\n",
        "print(\"Task - 1: \\nTotal Revenue by Month:\")\n",
        "print(monthly_revenue)\n",
        "\n",
        "print(\"\\nTask - 2: \\nTotal Revenue by Product:\")\n",
        "print(product_revenue)\n",
        "\n",
        "print(\"\\nTask - 3: \\nTotal Revenue by Customer:\")\n",
        "print(customer_revenue)\n",
        "\n",
        "print(\"\\nTask - 4: \\nTop 10 Customers by Revenue:\")\n",
        "print(top_customers)"
      ],
      "metadata": {
        "colab": {
          "base_uri": "https://localhost:8080/"
        },
        "id": "4WEwToJOaZPo",
        "outputId": "0ea342b5-cd52-4a30-c2fd-ee91f5e835b9"
      },
      "execution_count": 8,
      "outputs": [
        {
          "output_type": "stream",
          "name": "stdout",
          "text": [
            "Task - 1: \n",
            "Total Revenue by Month:\n",
            "order_month\n",
            "2022-01    102.47\n",
            "2022-02    102.47\n",
            "2022-03    102.47\n",
            "2022-04    102.47\n",
            "2022-05    102.47\n",
            "2022-06    102.47\n",
            "2022-07    102.47\n",
            "2022-08    102.47\n",
            "2022-09    102.47\n",
            "2022-10    102.47\n",
            "Freq: M, Name: product_price, dtype: float64\n",
            "\n",
            "Task - 2: \n",
            "Total Revenue by Product:\n",
            "product_name\n",
            "Product A    209.9\n",
            "Product B    154.9\n",
            "Product C    300.0\n",
            "Product D    259.9\n",
            "Product E    100.0\n",
            "Name: product_price, dtype: float64\n",
            "\n",
            "Task - 3: \n",
            "Total Revenue by Customer:\n",
            "customer_id\n",
            "C100    20.99\n",
            "C101    15.49\n",
            "C102    30.00\n",
            "C103    25.99\n",
            "C104    10.00\n",
            "C105    20.99\n",
            "C106    15.49\n",
            "C107    30.00\n",
            "C108    25.99\n",
            "C109    10.00\n",
            "C110    20.99\n",
            "C111    15.49\n",
            "C112    30.00\n",
            "C113    25.99\n",
            "C114    10.00\n",
            "C115    20.99\n",
            "C116    15.49\n",
            "C117    30.00\n",
            "C118    25.99\n",
            "C119    10.00\n",
            "C120    20.99\n",
            "C121    15.49\n",
            "C122    30.00\n",
            "C123    25.99\n",
            "C124    10.00\n",
            "C125    20.99\n",
            "C126    15.49\n",
            "C127    30.00\n",
            "C128    25.99\n",
            "C129    10.00\n",
            "C130    20.99\n",
            "C131    15.49\n",
            "C132    30.00\n",
            "C133    25.99\n",
            "C134    10.00\n",
            "C135    20.99\n",
            "C136    15.49\n",
            "C137    30.00\n",
            "C138    25.99\n",
            "C139    10.00\n",
            "C140    20.99\n",
            "C141    15.49\n",
            "C142    30.00\n",
            "C143    25.99\n",
            "C144    10.00\n",
            "C145    20.99\n",
            "C146    15.49\n",
            "C147    30.00\n",
            "C148    25.99\n",
            "C149    10.00\n",
            "Name: product_price, dtype: float64\n",
            "\n",
            "Task - 4: \n",
            "Top 10 Customers by Revenue:\n",
            "customer_id\n",
            "C112    30.0\n",
            "C102    30.0\n",
            "C122    30.0\n",
            "C147    30.0\n",
            "C132    30.0\n",
            "C107    30.0\n",
            "C142    30.0\n",
            "C117    30.0\n",
            "C127    30.0\n",
            "C137    30.0\n",
            "Name: product_price, dtype: float64\n"
          ]
        }
      ]
    },
    {
      "cell_type": "markdown",
      "source": [
        "5. Pandas and Matplotlib for data analysis and visualization"
      ],
      "metadata": {
        "id": "uftqMM0zbXYW"
      }
    },
    {
      "cell_type": "code",
      "source": [
        "# Display basic statistics of the dataset\n",
        "import matplotlib.pyplot as plt\n",
        "\n",
        "print(\"Basic Statistics:\\n\", df.describe())\n",
        "\n",
        "# Plotting total revenue by product\n",
        "product_revenue = df.groupby('product_name')['product_price'].sum()\n",
        "product_revenue.plot(kind='bar', title='Total Revenue by Product')\n",
        "plt.xlabel('Product')\n",
        "plt.ylabel('Total Revenue')\n",
        "plt.show()\n"
      ],
      "metadata": {
        "colab": {
          "base_uri": "https://localhost:8080/",
          "height": 700
        },
        "id": "0BG7uYISaczg",
        "outputId": "526d0625-bbf0-4b8d-b014-7131e7f720b9"
      },
      "execution_count": 10,
      "outputs": [
        {
          "output_type": "stream",
          "name": "stdout",
          "text": [
            "Basic Statistics:\n",
            "        order_id  product_price   quantity\n",
            "count  50.00000      50.000000  50.000000\n",
            "mean   25.50000      20.494000   2.400000\n",
            "std    14.57738       7.227783   1.030158\n",
            "min     1.00000      10.000000   1.000000\n",
            "25%    13.25000      15.490000   2.000000\n",
            "50%    25.50000      20.990000   2.000000\n",
            "75%    37.75000      25.990000   3.000000\n",
            "max    50.00000      30.000000   4.000000\n"
          ]
        },
        {
          "output_type": "display_data",
          "data": {
            "text/plain": [
              "<Figure size 640x480 with 1 Axes>"
            ],
            "image/png": "[encoded data removed]"
          },
          "metadata": {}
        }
      ]
    },
    {
      "cell_type": "markdown",
      "source": [
        "Analysis:\n",
        "\n",
        "         Product C is the highest revenue-generating product, followed by Product D and Product A.\n",
        "\n",
        "         Product E is the lowest revenue-generating product.\n",
        "\n",
        "         There is a significant difference in revenue between the top-performing products and the bottom-performing products.\n",
        "\n",
        "\n",
        "\n",
        "\n",
        "\n",
        "\n",
        "\n",
        "\n",
        "\n",
        "\n"
      ],
      "metadata": {
        "id": "Ylw29trnjzpl"
      }
    },
    {
      "cell_type": "code",
      "source": [
        "# Average Order Value for Each Product\n",
        "avg_order_value = df.groupby('product_name')['product_price'].mean()"
      ],
      "metadata": {
        "id": "fAH0ye2WbiAK"
      },
      "execution_count": 17,
      "outputs": []
    },
    {
      "cell_type": "markdown",
      "source": [
        "6. Trying to add another new Column 'cost_price' to analyse even more"
      ],
      "metadata": {
        "id": "NVK7NjUMjPVJ"
      }
    },
    {
      "cell_type": "code",
      "source": [
        "import random\n",
        "from datetime import datetime, timedelta\n",
        "\n",
        "# Generating random data for demonstration\n",
        "def generate_random_data():\n",
        "    order_id = random.randint(1000, 9999)\n",
        "    customer_id = random.randint(1, 50)\n",
        "    order_date = datetime.now() - timedelta(days=random.randint(1, 365))\n",
        "    product_id = random.randint(1, 10)\n",
        "    product_name = f'product{product_id}'\n",
        "    product_price = random.uniform(10, 100)\n",
        "    quantity = random.randint(1, 10)\n",
        "    return order_id, customer_id, order_date, product_id, product_name, product_price, quantity\n",
        "\n",
        "# Creating a list of 50 entities\n",
        "data = [generate_random_data() for _ in range(50)]\n",
        "\n",
        "# Creating a DataFrame\n",
        "columns = ['order_id', 'customer_id', 'order_date', 'product_id', 'product_name', 'product_price', 'quantity']\n",
        "df = pd.DataFrame(data, columns=columns)\n",
        "\n",
        "# Assuming a fixed cost for each product (you can replace this with actual cost data)\n",
        "product_cost = {'product1': 5, 'product2': 8, 'product3': 10, 'product4': 6, 'product5': 12}\n",
        "\n",
        "# Adding 'cost_price' column based on the fixed cost dictionary\n",
        "df['cost_price'] = df['product_name'].map(product_cost)\n",
        "\n",
        "# Save the DataFrame with the new column to a new CSV file\n",
        "df.to_csv('orders_with_cost_50_entities.csv', index=False)\n"
      ],
      "metadata": {
        "id": "iOL1Q6d0ihhk"
      },
      "execution_count": 15,
      "outputs": []
    },
    {
      "cell_type": "code",
      "source": [
        "# Profit Margin for Each Product\n",
        "# Assuming 'cost_price' column is available in the DataFrame\n",
        "df['profit_margin'] = (df['product_price'] - df['cost_price']) / df['product_price']\n",
        "\n",
        "# Display the results\n",
        "print(\"Average Order Value:\\n\", avg_order_value)\n",
        "print(\"\\nProfit Margin:\\n\", df.groupby('product_name')['profit_margin'].mean())"
      ],
      "metadata": {
        "colab": {
          "base_uri": "https://localhost:8080/"
        },
        "id": "HT6mZMNQcmvs",
        "outputId": "049d7d80-73f6-4438-b9bb-b41886a807d3"
      },
      "execution_count": 16,
      "outputs": [
        {
          "output_type": "stream",
          "name": "stdout",
          "text": [
            "Average Order Value:\n",
            " product_name\n",
            "Product A    20.99\n",
            "Product B    15.49\n",
            "Product C    30.00\n",
            "Product D    25.99\n",
            "Product E    10.00\n",
            "Name: product_price, dtype: float64\n",
            "\n",
            "Profit Margin:\n",
            " product_name\n",
            "product1     0.921521\n",
            "product10         NaN\n",
            "product2     0.773211\n",
            "product3     0.791031\n",
            "product4     0.907917\n",
            "product5     0.749522\n",
            "product6          NaN\n",
            "product7          NaN\n",
            "product8          NaN\n",
            "product9          NaN\n",
            "Name: profit_margin, dtype: float64\n"
          ]
        }
      ]
    },
    {
      "cell_type": "markdown",
      "source": [
        "Analysis:\n",
        "\n",
        "    Product C has the highest average order value, indicating it is priced higher compared to others.\n",
        "\n",
        "    Product 1 and Product 4 have the highest profit margins, suggesting these products are more profitable.\n",
        "    \n",
        "    Product B has a lower average order value and profit margin, potentially indicating a lower-priced or less profitable item."
      ],
      "metadata": {
        "id": "0S2Bc3iGjk3m"
      }
    },
    {
      "cell_type": "code",
      "source": [],
      "metadata": {
        "id": "0oUbbgAgiytB"
      },
      "execution_count": null,
      "outputs": []
    }
  ]
}